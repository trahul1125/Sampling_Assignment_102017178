{
  "cells": [
    {
      "cell_type": "markdown",
      "metadata": {
        "id": "bvn6hrVO-sgL"
      },
      "source": [
        "READING CSV FILE FROM GIVEN URL"
      ]
    },
    {
      "cell_type": "code",
      "execution_count": 62,
      "metadata": {
        "id": "7vN3AzYy-sgN"
      },
      "outputs": [],
      "source": [
        "import numpy as np\n",
        "import pandas as pd\n",
        "\n",
        "from sklearn.linear_model import LogisticRegression\n",
        "from sklearn.metrics import accuracy_score, f1_score, confusion_matrix, roc_auc_score\n",
        "from sklearn.model_selection import train_test_split\n",
        "from sklearn.preprocessing import StandardScaler\n",
        "from sklearn.model_selection import train_test_split\n",
        "from sklearn.linear_model import LogisticRegression\n",
        "from sklearn.tree import DecisionTreeClassifier\n",
        "from sklearn.ensemble import RandomForestClassifier\n",
        "from sklearn.svm import SVC\n",
        "from sklearn.naive_bayes import GaussianNB\n",
        "\n",
        "from collections import Counter\n",
        "\n",
        "import matplotlib.pyplot as plt\n",
        "import seaborn as sns"
      ]
    },
    {
      "cell_type": "code",
      "execution_count": 61,
      "metadata": {
        "id": "gjtQddwD-sgP"
      },
      "outputs": [],
      "source": [
        "\n",
        "data = pd.read_csv('/content/Creditcard_data.csv')\n",
        "\n"
      ]
    },
    {
      "cell_type": "code",
      "execution_count": 3,
      "metadata": {
        "colab": {
          "base_uri": "https://localhost:8080/",
          "height": 300
        },
        "id": "9kdY7gKc-sgP",
        "outputId": "c81c9578-4338-4973-eb66-cd0b93dd0dde"
      },
      "outputs": [
        {
          "data": {
            "text/html": [
              "\n",
              "  <div id=\"df-29c740f2-8005-4a53-8f71-58de96028ecb\">\n",
              "    <div class=\"colab-df-container\">\n",
              "      <div>\n",
              "<style scoped>\n",
              "    .dataframe tbody tr th:only-of-type {\n",
              "        vertical-align: middle;\n",
              "    }\n",
              "\n",
              "    .dataframe tbody tr th {\n",
              "        vertical-align: top;\n",
              "    }\n",
              "\n",
              "    .dataframe thead th {\n",
              "        text-align: right;\n",
              "    }\n",
              "</style>\n",
              "<table border=\"1\" class=\"dataframe\">\n",
              "  <thead>\n",
              "    <tr style=\"text-align: right;\">\n",
              "      <th></th>\n",
              "      <th>Time</th>\n",
              "      <th>V1</th>\n",
              "      <th>V2</th>\n",
              "      <th>V3</th>\n",
              "      <th>V4</th>\n",
              "      <th>V5</th>\n",
              "      <th>V6</th>\n",
              "      <th>V7</th>\n",
              "      <th>V8</th>\n",
              "      <th>V9</th>\n",
              "      <th>...</th>\n",
              "      <th>V21</th>\n",
              "      <th>V22</th>\n",
              "      <th>V23</th>\n",
              "      <th>V24</th>\n",
              "      <th>V25</th>\n",
              "      <th>V26</th>\n",
              "      <th>V27</th>\n",
              "      <th>V28</th>\n",
              "      <th>Amount</th>\n",
              "      <th>Class</th>\n",
              "    </tr>\n",
              "  </thead>\n",
              "  <tbody>\n",
              "    <tr>\n",
              "      <th>0</th>\n",
              "      <td>0</td>\n",
              "      <td>-1.359807</td>\n",
              "      <td>-0.072781</td>\n",
              "      <td>2.536347</td>\n",
              "      <td>1.378155</td>\n",
              "      <td>-0.338321</td>\n",
              "      <td>0.462388</td>\n",
              "      <td>0.239599</td>\n",
              "      <td>0.098698</td>\n",
              "      <td>0.363787</td>\n",
              "      <td>...</td>\n",
              "      <td>-0.018307</td>\n",
              "      <td>0.277838</td>\n",
              "      <td>-0.110474</td>\n",
              "      <td>0.066928</td>\n",
              "      <td>0.128539</td>\n",
              "      <td>-0.189115</td>\n",
              "      <td>0.133558</td>\n",
              "      <td>-0.021053</td>\n",
              "      <td>149.62</td>\n",
              "      <td>0</td>\n",
              "    </tr>\n",
              "    <tr>\n",
              "      <th>1</th>\n",
              "      <td>0</td>\n",
              "      <td>1.191857</td>\n",
              "      <td>0.266151</td>\n",
              "      <td>0.166480</td>\n",
              "      <td>0.448154</td>\n",
              "      <td>0.060018</td>\n",
              "      <td>-0.082361</td>\n",
              "      <td>-0.078803</td>\n",
              "      <td>0.085102</td>\n",
              "      <td>-0.255425</td>\n",
              "      <td>...</td>\n",
              "      <td>-0.225775</td>\n",
              "      <td>-0.638672</td>\n",
              "      <td>0.101288</td>\n",
              "      <td>-0.339846</td>\n",
              "      <td>0.167170</td>\n",
              "      <td>0.125895</td>\n",
              "      <td>-0.008983</td>\n",
              "      <td>0.014724</td>\n",
              "      <td>2.69</td>\n",
              "      <td>1</td>\n",
              "    </tr>\n",
              "    <tr>\n",
              "      <th>2</th>\n",
              "      <td>1</td>\n",
              "      <td>-1.358354</td>\n",
              "      <td>-1.340163</td>\n",
              "      <td>1.773209</td>\n",
              "      <td>0.379780</td>\n",
              "      <td>-0.503198</td>\n",
              "      <td>1.800499</td>\n",
              "      <td>0.791461</td>\n",
              "      <td>0.247676</td>\n",
              "      <td>-1.514654</td>\n",
              "      <td>...</td>\n",
              "      <td>0.247998</td>\n",
              "      <td>0.771679</td>\n",
              "      <td>0.909412</td>\n",
              "      <td>-0.689281</td>\n",
              "      <td>-0.327642</td>\n",
              "      <td>-0.139097</td>\n",
              "      <td>-0.055353</td>\n",
              "      <td>-0.059752</td>\n",
              "      <td>378.66</td>\n",
              "      <td>0</td>\n",
              "    </tr>\n",
              "    <tr>\n",
              "      <th>3</th>\n",
              "      <td>1</td>\n",
              "      <td>-0.966272</td>\n",
              "      <td>-0.185226</td>\n",
              "      <td>1.792993</td>\n",
              "      <td>-0.863291</td>\n",
              "      <td>-0.010309</td>\n",
              "      <td>1.247203</td>\n",
              "      <td>0.237609</td>\n",
              "      <td>0.377436</td>\n",
              "      <td>-1.387024</td>\n",
              "      <td>...</td>\n",
              "      <td>-0.108300</td>\n",
              "      <td>0.005274</td>\n",
              "      <td>-0.190321</td>\n",
              "      <td>-1.175575</td>\n",
              "      <td>0.647376</td>\n",
              "      <td>-0.221929</td>\n",
              "      <td>0.062723</td>\n",
              "      <td>0.061458</td>\n",
              "      <td>123.50</td>\n",
              "      <td>0</td>\n",
              "    </tr>\n",
              "    <tr>\n",
              "      <th>4</th>\n",
              "      <td>2</td>\n",
              "      <td>-1.158233</td>\n",
              "      <td>0.877737</td>\n",
              "      <td>1.548718</td>\n",
              "      <td>0.403034</td>\n",
              "      <td>-0.407193</td>\n",
              "      <td>0.095921</td>\n",
              "      <td>0.592941</td>\n",
              "      <td>-0.270533</td>\n",
              "      <td>0.817739</td>\n",
              "      <td>...</td>\n",
              "      <td>-0.009431</td>\n",
              "      <td>0.798278</td>\n",
              "      <td>-0.137458</td>\n",
              "      <td>0.141267</td>\n",
              "      <td>-0.206010</td>\n",
              "      <td>0.502292</td>\n",
              "      <td>0.219422</td>\n",
              "      <td>0.215153</td>\n",
              "      <td>69.99</td>\n",
              "      <td>0</td>\n",
              "    </tr>\n",
              "  </tbody>\n",
              "</table>\n",
              "<p>5 rows × 31 columns</p>\n",
              "</div>\n",
              "      <button class=\"colab-df-convert\" onclick=\"convertToInteractive('df-29c740f2-8005-4a53-8f71-58de96028ecb')\"\n",
              "              title=\"Convert this dataframe to an interactive table.\"\n",
              "              style=\"display:none;\">\n",
              "        \n",
              "  <svg xmlns=\"http://www.w3.org/2000/svg\" height=\"24px\"viewBox=\"0 0 24 24\"\n",
              "       width=\"24px\">\n",
              "    <path d=\"M0 0h24v24H0V0z\" fill=\"none\"/>\n",
              "    <path d=\"M18.56 5.44l.94 2.06.94-2.06 2.06-.94-2.06-.94-.94-2.06-.94 2.06-2.06.94zm-11 1L8.5 8.5l.94-2.06 2.06-.94-2.06-.94L8.5 2.5l-.94 2.06-2.06.94zm10 10l.94 2.06.94-2.06 2.06-.94-2.06-.94-.94-2.06-.94 2.06-2.06.94z\"/><path d=\"M17.41 7.96l-1.37-1.37c-.4-.4-.92-.59-1.43-.59-.52 0-1.04.2-1.43.59L10.3 9.45l-7.72 7.72c-.78.78-.78 2.05 0 2.83L4 21.41c.39.39.9.59 1.41.59.51 0 1.02-.2 1.41-.59l7.78-7.78 2.81-2.81c.8-.78.8-2.07 0-2.86zM5.41 20L4 18.59l7.72-7.72 1.47 1.35L5.41 20z\"/>\n",
              "  </svg>\n",
              "      </button>\n",
              "      \n",
              "  <style>\n",
              "    .colab-df-container {\n",
              "      display:flex;\n",
              "      flex-wrap:wrap;\n",
              "      gap: 12px;\n",
              "    }\n",
              "\n",
              "    .colab-df-convert {\n",
              "      background-color: #E8F0FE;\n",
              "      border: none;\n",
              "      border-radius: 50%;\n",
              "      cursor: pointer;\n",
              "      display: none;\n",
              "      fill: #1967D2;\n",
              "      height: 32px;\n",
              "      padding: 0 0 0 0;\n",
              "      width: 32px;\n",
              "    }\n",
              "\n",
              "    .colab-df-convert:hover {\n",
              "      background-color: #E2EBFA;\n",
              "      box-shadow: 0px 1px 2px rgba(60, 64, 67, 0.3), 0px 1px 3px 1px rgba(60, 64, 67, 0.15);\n",
              "      fill: #174EA6;\n",
              "    }\n",
              "\n",
              "    [theme=dark] .colab-df-convert {\n",
              "      background-color: #3B4455;\n",
              "      fill: #D2E3FC;\n",
              "    }\n",
              "\n",
              "    [theme=dark] .colab-df-convert:hover {\n",
              "      background-color: #434B5C;\n",
              "      box-shadow: 0px 1px 3px 1px rgba(0, 0, 0, 0.15);\n",
              "      filter: drop-shadow(0px 1px 2px rgba(0, 0, 0, 0.3));\n",
              "      fill: #FFFFFF;\n",
              "    }\n",
              "  </style>\n",
              "\n",
              "      <script>\n",
              "        const buttonEl =\n",
              "          document.querySelector('#df-29c740f2-8005-4a53-8f71-58de96028ecb button.colab-df-convert');\n",
              "        buttonEl.style.display =\n",
              "          google.colab.kernel.accessAllowed ? 'block' : 'none';\n",
              "\n",
              "        async function convertToInteractive(key) {\n",
              "          const element = document.querySelector('#df-29c740f2-8005-4a53-8f71-58de96028ecb');\n",
              "          const dataTable =\n",
              "            await google.colab.kernel.invokeFunction('convertToInteractive',\n",
              "                                                     [key], {});\n",
              "          if (!dataTable) return;\n",
              "\n",
              "          const docLinkHtml = 'Like what you see? Visit the ' +\n",
              "            '<a target=\"_blank\" href=https://colab.research.google.com/notebooks/data_table.ipynb>data table notebook</a>'\n",
              "            + ' to learn more about interactive tables.';\n",
              "          element.innerHTML = '';\n",
              "          dataTable['output_type'] = 'display_data';\n",
              "          await google.colab.output.renderOutput(dataTable, element);\n",
              "          const docLink = document.createElement('div');\n",
              "          docLink.innerHTML = docLinkHtml;\n",
              "          element.appendChild(docLink);\n",
              "        }\n",
              "      </script>\n",
              "    </div>\n",
              "  </div>\n",
              "  "
            ],
            "text/plain": [
              "   Time        V1        V2        V3        V4        V5        V6        V7  \\\n",
              "0     0 -1.359807 -0.072781  2.536347  1.378155 -0.338321  0.462388  0.239599   \n",
              "1     0  1.191857  0.266151  0.166480  0.448154  0.060018 -0.082361 -0.078803   \n",
              "2     1 -1.358354 -1.340163  1.773209  0.379780 -0.503198  1.800499  0.791461   \n",
              "3     1 -0.966272 -0.185226  1.792993 -0.863291 -0.010309  1.247203  0.237609   \n",
              "4     2 -1.158233  0.877737  1.548718  0.403034 -0.407193  0.095921  0.592941   \n",
              "\n",
              "         V8        V9  ...       V21       V22       V23       V24       V25  \\\n",
              "0  0.098698  0.363787  ... -0.018307  0.277838 -0.110474  0.066928  0.128539   \n",
              "1  0.085102 -0.255425  ... -0.225775 -0.638672  0.101288 -0.339846  0.167170   \n",
              "2  0.247676 -1.514654  ...  0.247998  0.771679  0.909412 -0.689281 -0.327642   \n",
              "3  0.377436 -1.387024  ... -0.108300  0.005274 -0.190321 -1.175575  0.647376   \n",
              "4 -0.270533  0.817739  ... -0.009431  0.798278 -0.137458  0.141267 -0.206010   \n",
              "\n",
              "        V26       V27       V28  Amount  Class  \n",
              "0 -0.189115  0.133558 -0.021053  149.62      0  \n",
              "1  0.125895 -0.008983  0.014724    2.69      1  \n",
              "2 -0.139097 -0.055353 -0.059752  378.66      0  \n",
              "3 -0.221929  0.062723  0.061458  123.50      0  \n",
              "4  0.502292  0.219422  0.215153   69.99      0  \n",
              "\n",
              "[5 rows x 31 columns]"
            ]
          },
          "execution_count": 3,
          "metadata": {},
          "output_type": "execute_result"
        }
      ],
      "source": [
        "data.head()"
      ]
    },
    {
      "cell_type": "code",
      "execution_count": 4,
      "metadata": {
        "colab": {
          "base_uri": "https://localhost:8080/"
        },
        "id": "TJUb2aFc-sgQ",
        "outputId": "e5e1dc53-ca5a-4b43-ee94-930c60679818"
      },
      "outputs": [
        {
          "name": "stdout",
          "output_type": "stream",
          "text": [
            "<class 'pandas.core.frame.DataFrame'>\n",
            "RangeIndex: 772 entries, 0 to 771\n",
            "Data columns (total 31 columns):\n",
            " #   Column  Non-Null Count  Dtype  \n",
            "---  ------  --------------  -----  \n",
            " 0   Time    772 non-null    int64  \n",
            " 1   V1      772 non-null    float64\n",
            " 2   V2      772 non-null    float64\n",
            " 3   V3      772 non-null    float64\n",
            " 4   V4      772 non-null    float64\n",
            " 5   V5      772 non-null    float64\n",
            " 6   V6      772 non-null    float64\n",
            " 7   V7      772 non-null    float64\n",
            " 8   V8      772 non-null    float64\n",
            " 9   V9      772 non-null    float64\n",
            " 10  V10     772 non-null    float64\n",
            " 11  V11     772 non-null    float64\n",
            " 12  V12     772 non-null    float64\n",
            " 13  V13     772 non-null    float64\n",
            " 14  V14     772 non-null    float64\n",
            " 15  V15     772 non-null    float64\n",
            " 16  V16     772 non-null    float64\n",
            " 17  V17     772 non-null    float64\n",
            " 18  V18     772 non-null    float64\n",
            " 19  V19     772 non-null    float64\n",
            " 20  V20     772 non-null    float64\n",
            " 21  V21     772 non-null    float64\n",
            " 22  V22     772 non-null    float64\n",
            " 23  V23     772 non-null    float64\n",
            " 24  V24     772 non-null    float64\n",
            " 25  V25     772 non-null    float64\n",
            " 26  V26     772 non-null    float64\n",
            " 27  V27     772 non-null    float64\n",
            " 28  V28     772 non-null    float64\n",
            " 29  Amount  772 non-null    float64\n",
            " 30  Class   772 non-null    int64  \n",
            "dtypes: float64(29), int64(2)\n",
            "memory usage: 187.1 KB\n"
          ]
        }
      ],
      "source": [
        "data.info()"
      ]
    },
    {
      "cell_type": "code",
      "execution_count": 5,
      "metadata": {
        "id": "oBRg9Uf7-sgQ"
      },
      "outputs": [],
      "source": [
        "class0 = data[data['Class'] == 0]\n",
        "class1 = data[data['Class'] == 1]"
      ]
    },
    {
      "cell_type": "code",
      "execution_count": 6,
      "metadata": {
        "colab": {
          "base_uri": "https://localhost:8080/"
        },
        "id": "zPzUVU0t-sgR",
        "outputId": "91aa2bbe-a048-4633-cc0b-0b5cef5adee8"
      },
      "outputs": [
        {
          "name": "stdout",
          "output_type": "stream",
          "text": [
            "Fraudulent \"1\" : 9\n",
            "Not Fraudulent \"0\": 763\n"
          ]
        }
      ],
      "source": [
        "\n",
        "count = data['Class'].value_counts()\n",
        "\n",
        "print('Fraudulent \"1\" :', count[1])\n",
        "print('Not Fraudulent \"0\":', count[0])"
      ]
    },
    {
      "cell_type": "code",
      "execution_count": 7,
      "metadata": {
        "colab": {
          "base_uri": "https://localhost:8080/"
        },
        "id": "IOxZokDe-sgR",
        "outputId": "59e27824-7668-4504-c9e0-b31d55ed5308"
      },
      "outputs": [
        {
          "data": {
            "text/plain": [
              "Time      0\n",
              "V1        0\n",
              "V2        0\n",
              "V3        0\n",
              "V4        0\n",
              "V5        0\n",
              "V6        0\n",
              "V7        0\n",
              "V8        0\n",
              "V9        0\n",
              "V10       0\n",
              "V11       0\n",
              "V12       0\n",
              "V13       0\n",
              "V14       0\n",
              "V15       0\n",
              "V16       0\n",
              "V17       0\n",
              "V18       0\n",
              "V19       0\n",
              "V20       0\n",
              "V21       0\n",
              "V22       0\n",
              "V23       0\n",
              "V24       0\n",
              "V25       0\n",
              "V26       0\n",
              "V27       0\n",
              "V28       0\n",
              "Amount    0\n",
              "Class     0\n",
              "dtype: int64"
            ]
          },
          "execution_count": 7,
          "metadata": {},
          "output_type": "execute_result"
        }
      ],
      "source": [
        "\n",
        "data.isnull().sum()"
      ]
    },
    {
      "cell_type": "code",
      "execution_count": 8,
      "metadata": {
        "colab": {
          "base_uri": "https://localhost:8080/"
        },
        "id": "2pTo-0zp-sgR",
        "outputId": "c1e031f3-aa11-4f91-ba9e-67d2a5a78ff3"
      },
      "outputs": [
        {
          "name": "stdout",
          "output_type": "stream",
          "text": [
            "         Time        V1        V2        V3        V4        V5        V6  \\\n",
            "0   -1.648034 -1.359807 -0.072781  2.536347  1.378155 -0.338321  0.462388   \n",
            "1   -1.648034  1.191857  0.266151  0.166480  0.448154  0.060018 -0.082361   \n",
            "2   -1.642211 -1.358354 -1.340163  1.773209  0.379780 -0.503198  1.800499   \n",
            "3   -1.642211 -0.966272 -0.185226  1.792993 -0.863291 -0.010309  1.247203   \n",
            "4   -1.636388 -1.158233  0.877737  1.548718  0.403034 -0.407193  0.095921   \n",
            "..        ...       ...       ...       ...       ...       ...       ...   \n",
            "767  1.700384 -0.572263  0.731748  1.541254  0.150506  1.108974  0.372152   \n",
            "768  1.723677 -1.296845 -0.511605  2.404726 -0.310762 -0.319551 -0.542842   \n",
            "769  1.723677  1.214170  0.210481  0.484651  0.479768 -0.261955 -0.527039   \n",
            "770  1.729501  1.267030 -0.071114  0.037680  0.512683  0.242392  0.705212   \n",
            "771  1.735324  1.153758  0.132273  0.382969  1.405063 -0.224287 -0.197295   \n",
            "\n",
            "           V7        V8        V9  ...       V21       V22       V23  \\\n",
            "0    0.239599  0.098698  0.363787  ... -0.018307  0.277838 -0.110474   \n",
            "1   -0.078803  0.085102 -0.255425  ... -0.225775 -0.638672  0.101288   \n",
            "2    0.791461  0.247676 -1.514654  ...  0.247998  0.771679  0.909412   \n",
            "3    0.237609  0.377436 -1.387024  ... -0.108300  0.005274 -0.190321   \n",
            "4    0.592941 -0.270533  0.817739  ... -0.009431  0.798278 -0.137458   \n",
            "..        ...       ...       ...  ...       ...       ...       ...   \n",
            "767  1.084879 -0.146329 -0.274447  ... -0.143508 -0.107582 -0.418263   \n",
            "768 -0.173310  0.260423 -1.202688  ... -0.071270 -0.161175  0.088496   \n",
            "769  0.021782 -0.106888 -0.037631  ... -0.224292 -0.594609  0.159877   \n",
            "770 -0.226582  0.109483  0.657565  ... -0.164468 -0.177225 -0.222918   \n",
            "771  0.020653  0.029260  0.412254  ... -0.107809 -0.125231 -0.057041   \n",
            "\n",
            "          V24       V25       V26       V27       V28    Amount  Class  \n",
            "0    0.066928  0.128539 -0.189115  0.133558 -0.021053  0.409447      0  \n",
            "1   -0.339846  0.167170  0.125895 -0.008983  0.014724 -0.333712      1  \n",
            "2   -0.689281 -0.327642 -0.139097 -0.055353 -0.059752  1.567910      0  \n",
            "3   -1.175575  0.647376 -0.221929  0.062723  0.061458  0.277334      0  \n",
            "4    0.141267 -0.206010  0.502292  0.219422  0.215153  0.006685      0  \n",
            "..        ...       ...       ...       ...       ...       ...    ...  \n",
            "767 -0.731029  0.877525 -0.364150 -0.177509 -0.256545 -0.212171      0  \n",
            "768  0.285390  0.281069 -0.370130  0.043410  0.092318  0.057315      0  \n",
            "769  0.091873  0.140964  0.227406 -0.017389  0.016030 -0.317072      0  \n",
            "770 -1.245505  0.678360  0.525059  0.002920 -0.003333 -0.284802      0  \n",
            "771  0.073082  0.633977 -0.310685  0.033590  0.015250 -0.277569      0  \n",
            "\n",
            "[772 rows x 31 columns]\n"
          ]
        }
      ],
      "source": [
        "#applying standard scaler on time and amount so that they are normalized to be easily applied across all ML algos.\n",
        "\n",
        "data[['Time', 'Amount']] = StandardScaler().fit_transform(data[['Time', 'Amount']])\n",
        "\n",
        "print(data)"
      ]
    },
    {
      "cell_type": "code",
      "execution_count": 9,
      "metadata": {
        "colab": {
          "base_uri": "https://localhost:8080/",
          "height": 292
        },
        "id": "JF-1egt4-sgR",
        "outputId": "d7051983-5a76-4c36-fcba-c1031055e178"
      },
      "outputs": [
        {
          "data": {
            "image/png": "[encoded data removed]",
            "text/plain": [
              "<Figure size 432x288 with 1 Axes>"
            ]
          },
          "metadata": {
            "needs_background": "light"
          },
          "output_type": "display_data"
        }
      ],
      "source": [
        "\n",
        "counts = data['Class'].value_counts()\n",
        "counts.plot(kind='bar')\n",
        "\n",
        "plt.xlabel('Value')\n",
        "plt.ylabel('Count')\n",
        "plt.title('Count of 0s and 1s in Class')\n",
        "plt.show()\n"
      ]
    },
    {
      "cell_type": "markdown",
      "metadata": {
        "id": "3sJPqBfP-sgS"
      },
      "source": [
        "NOW WE TRY TO BALANCE THIS DATASET USING TECHNIQUES LIKE OVERSAMPLING AND UNDERSAMPLING "
      ]
    },
    {
      "cell_type": "code",
      "execution_count": 10,
      "metadata": {
        "id": "lSELSRPo-sgS"
      },
      "outputs": [],
      "source": [
        "from imblearn.under_sampling import RandomUnderSampler\n",
        "\n",
        "x = data.drop('Class', axis=1)\n",
        "y = data['Class']"
      ]
    },
    {
      "cell_type": "code",
      "execution_count": 11,
      "metadata": {
        "id": "EigzVobf-sgS"
      },
      "outputs": [],
      "source": [
        "rus = RandomUnderSampler(random_state=0)\n",
        "\n",
        "x,y = rus.fit_resample(x, y)\n",
        "\n",
        "# us in the variable resampled_data_us is Under Sampling\n"
      ]
    },
    {
      "cell_type": "code",
      "execution_count": 12,
      "metadata": {
        "colab": {
          "base_uri": "https://localhost:8080/"
        },
        "id": "vjLR1FvO-sgS",
        "outputId": "c6bae6c7-6b03-48a0-b224-e6e3524fd52e"
      },
      "outputs": [
        {
          "data": {
            "text/plain": [
              "0    9\n",
              "1    9\n",
              "Name: Class, dtype: int64"
            ]
          },
          "execution_count": 12,
          "metadata": {},
          "output_type": "execute_result"
        }
      ],
      "source": [
        "y.value_counts()"
      ]
    },
    {
      "cell_type": "code",
      "execution_count": 13,
      "metadata": {
        "id": "5tumwALgBw_n"
      },
      "outputs": [],
      "source": [
        "resampled_data_us = pd.concat([x,y],axis=1)"
      ]
    },
    {
      "cell_type": "code",
      "execution_count": 14,
      "metadata": {
        "colab": {
          "base_uri": "https://localhost:8080/"
        },
        "id": "UIOdzNtR-sgS",
        "outputId": "db6b9fdc-ae07-43be-c060-4f742f9189b2"
      },
      "outputs": [
        {
          "name": "stdout",
          "output_type": "stream",
          "text": [
            "        Time        V1        V2        V3        V4        V5        V6  \\\n",
            "0   1.094757  1.377497 -0.662565 -0.130149 -0.562680 -0.832895 -0.910754   \n",
            "1  -0.133967  1.026702 -0.661665  0.897601  0.144403 -1.105205  0.020245   \n",
            "2  -0.850237  0.753308 -1.131593  0.878730  0.297871 -1.327250  0.066596   \n",
            "3  -1.461688 -2.008872  2.198527  0.144242  1.159432 -0.815174  0.182288   \n",
            "4  -0.244610 -0.849348  1.019508  1.517236  0.579468  0.539187 -0.211665   \n",
            "5   0.040733  1.355157 -1.318940  0.166357 -1.574822 -1.279267 -0.182794   \n",
            "6  -0.646420  1.264699  0.168286 -0.275340  0.220631  0.459215  0.468624   \n",
            "7   0.524070  1.149246  0.018358  0.430440  0.537503 -0.430754 -0.394699   \n",
            "8  -1.496628 -0.529912  0.873892  1.347247  0.145457  0.414209  0.100223   \n",
            "9  -1.648034  1.191857  0.266151  0.166480  0.448154  0.060018 -0.082361   \n",
            "10 -0.960881  1.254914  0.350287  0.302488  0.693114 -0.371470 -1.070256   \n",
            "11 -0.693007  0.073497  0.551033  0.451890  0.114964  0.822947  0.251480   \n",
            "12  0.716240 -2.312227  1.951992 -1.609851  3.997906 -0.522188 -1.426545   \n",
            "13  1.100580 -3.043541 -3.157307  1.088463  2.288644  1.359805 -1.064823   \n",
            "14  1.170460 -0.928088  0.398194  1.741131  0.182673  0.966387 -0.901004   \n",
            "15  1.432511 -2.000567 -2.495484  2.467149  1.140053  2.462010  0.594262   \n",
            "16  1.490744 -1.738582  0.052740  1.187057 -0.656652  0.920623 -0.291788   \n",
            "17  1.694561  1.257719  0.364739  0.306923  0.690638 -0.357792 -1.067481   \n",
            "\n",
            "          V7        V8        V9  ...       V21       V22       V23       V24  \\\n",
            "0  -0.327043 -0.201709 -0.523053  ...  0.133023  0.287921 -0.224325  0.052896   \n",
            "1  -0.707267  0.195918  0.743371  ...  0.150661  0.322398 -0.154736  0.097655   \n",
            "2  -0.535276  0.171133  1.184602  ...  0.031912 -0.213298 -0.091660  0.151837   \n",
            "3  -0.617108  1.530817 -0.586832  ...  0.094917  0.294983  0.011081  0.015249   \n",
            "4   1.346509 -0.989694  0.904159  ...  0.004282  0.508111 -0.180737  0.017425   \n",
            "5  -0.985599 -0.012855 -1.980932  ... -0.409000 -1.090939  0.026299 -0.573381   \n",
            "6  -0.172794  0.209104 -0.028623  ... -0.304789 -0.908607 -0.009439 -1.376774   \n",
            "7  -0.151398  0.135031 -0.004959  ... -0.124932 -0.449760  0.135781  0.185130   \n",
            "8   0.711206  0.176066 -0.286717  ...  0.046949  0.208105 -0.185548  0.001031   \n",
            "9  -0.078803  0.085102 -0.255425  ... -0.225775 -0.638672  0.101288 -0.339846   \n",
            "10  0.086781 -0.202836  0.035154  ... -0.287592 -0.832682  0.128083  0.339427   \n",
            "11  0.296319  0.139497 -0.123050  ... -0.128758 -0.381932  0.151012 -1.363967   \n",
            "12 -2.537387  1.391657 -2.770089  ...  0.517232 -0.035049 -0.465211  0.320198   \n",
            "13  0.325574 -0.067794 -0.270953  ...  0.661696  0.435477  1.375966 -0.293803   \n",
            "14  0.879016 -0.156590 -0.142117  ...  0.066353  0.281378 -0.257966  0.385384   \n",
            "15 -2.110183  0.788347  0.958809  ...  0.422452  1.195394  0.297836 -0.857105   \n",
            "16  0.269083  0.140631  0.023464  ... -0.179545 -0.192036 -0.261879 -0.237477   \n",
            "17  0.094272 -0.210300  0.014455  ... -0.286856 -0.820658  0.127663  0.343128   \n",
            "\n",
            "         V25       V26       V27       V28    Amount  Class  \n",
            "0   0.775265 -0.042445 -0.026107  0.003801 -0.104538      0  \n",
            "1   0.174639  1.103205 -0.060709  0.016598  0.153415      0  \n",
            "2  -0.067673  0.999073 -0.063985  0.049174  0.796124      0  \n",
            "3   0.034211 -0.236141  0.128291  0.117986 -0.335432      0  \n",
            "4  -0.525662 -0.480661 -1.187697 -0.654816 -0.285612      0  \n",
            "5   0.152090 -0.453984  0.011317  0.023964  0.163531      0  \n",
            "6   0.266823  0.191967 -0.016844  0.002034 -0.340793      0  \n",
            "7   0.129062  0.177780 -0.034565  0.001487 -0.295272      0  \n",
            "8   0.098816 -0.552904 -0.073288  0.023307 -0.316263      0  \n",
            "9   0.167170  0.125895 -0.008983  0.014724 -0.333712      1  \n",
            "10  0.215944  0.094704 -0.023354  0.030892 -0.333712      1  \n",
            "11 -1.389079  0.075412  0.231750  0.230171 -0.342311      1  \n",
            "12  0.044519  0.177840  0.261145 -0.143276 -0.347318      1  \n",
            "13  0.279798 -0.145362 -0.252773  0.035764  2.328317      1  \n",
            "14  0.391117 -0.453853 -0.104448 -0.125765 -0.342260      1  \n",
            "15 -0.219322  0.861019 -0.124622 -0.171060 -0.339731      1  \n",
            "16 -0.335040  0.240323 -0.345129 -0.383563 -0.342260      1  \n",
            "17  0.221120  0.094391 -0.022189  0.030944 -0.340793      1  \n",
            "\n",
            "[18 rows x 31 columns]\n"
          ]
        }
      ],
      "source": [
        "print(resampled_data_us)"
      ]
    },
    {
      "cell_type": "code",
      "execution_count": 15,
      "metadata": {
        "colab": {
          "base_uri": "https://localhost:8080/",
          "height": 292
        },
        "id": "d1-XiIYA-sgT",
        "outputId": "6a5b0dfc-6f5f-4149-8213-4b9d058ba3ec"
      },
      "outputs": [
        {
          "data": {
            "image/png": "[encoded data removed]",
            "text/plain": [
              "<Figure size 432x288 with 1 Axes>"
            ]
          },
          "metadata": {
            "needs_background": "light"
          },
          "output_type": "display_data"
        }
      ],
      "source": [
        "\n",
        "counts = resampled_data_us['Class'].value_counts()\n",
        "counts.plot(kind='bar')\n",
        "\n",
        "plt.xlabel('Value')\n",
        "plt.ylabel('Count')\n",
        "plt.title('Count of 0s and 1s in Class')\n",
        "plt.show()"
      ]
    },
    {
      "cell_type": "code",
      "execution_count": 16,
      "metadata": {
        "id": "1DPfPT2T-sgT"
      },
      "outputs": [],
      "source": [
        "\n",
        "a = data.drop('Class', axis=1)\n",
        "b = data['Class']"
      ]
    },
    {
      "cell_type": "code",
      "execution_count": 17,
      "metadata": {
        "id": "TNMYo87f-sgT"
      },
      "outputs": [],
      "source": [
        "from imblearn.over_sampling import SMOTE\n",
        "ros = SMOTE()\n",
        "\n",
        "a,b = ros.fit_resample(a, b)\n",
        "\n"
      ]
    },
    {
      "cell_type": "code",
      "execution_count": 18,
      "metadata": {
        "colab": {
          "base_uri": "https://localhost:8080/"
        },
        "id": "RSWlbUGr-sgT",
        "outputId": "203a632c-fa14-47c7-930d-ef85076c9b2b"
      },
      "outputs": [
        {
          "data": {
            "text/plain": [
              "0    763\n",
              "1    763\n",
              "Name: Class, dtype: int64"
            ]
          },
          "execution_count": 18,
          "metadata": {},
          "output_type": "execute_result"
        }
      ],
      "source": [
        "b.value_counts()"
      ]
    },
    {
      "cell_type": "code",
      "execution_count": 19,
      "metadata": {
        "id": "UJl1ZN6HDgMf"
      },
      "outputs": [],
      "source": [
        "resampled_data_os = pd.concat([a,b],axis=1)"
      ]
    },
    {
      "cell_type": "code",
      "execution_count": 20,
      "metadata": {
        "colab": {
          "base_uri": "https://localhost:8080/"
        },
        "id": "jbAMCL2O-sgU",
        "outputId": "5bb163b5-4736-4c70-8254-4385a8c4dd47"
      },
      "outputs": [
        {
          "name": "stdout",
          "output_type": "stream",
          "text": [
            "          Time        V1        V2        V3        V4        V5        V6  \\\n",
            "0    -1.648034 -1.359807 -0.072781  2.536347  1.378155 -0.338321  0.462388   \n",
            "1    -1.648034  1.191857  0.266151  0.166480  0.448154  0.060018 -0.082361   \n",
            "2    -1.642211 -1.358354 -1.340163  1.773209  0.379780 -0.503198  1.800499   \n",
            "3    -1.642211 -0.966272 -0.185226  1.792993 -0.863291 -0.010309  1.247203   \n",
            "4    -1.636388 -1.158233  0.877737  1.548718  0.403034 -0.407193  0.095921   \n",
            "...        ...       ...       ...       ...       ...       ...       ...   \n",
            "1521  1.368706  1.096097  0.390164  0.326708  0.612070 -0.196645 -0.887469   \n",
            "1522  1.495984 -1.661549  0.060761  1.164429 -0.622014  0.887756 -0.311731   \n",
            "1523  1.211994 -1.945041  0.736295  0.180428  1.018560  0.401344 -0.700196   \n",
            "1524  1.036460 -1.143727  1.432459 -0.982461  2.915385 -0.468378 -1.309018   \n",
            "1525 -0.489634  0.252600  0.800343 -0.234851  1.621712 -0.413819 -1.170368   \n",
            "\n",
            "            V7        V8        V9  ...       V21       V22       V23  \\\n",
            "0     0.239599  0.098698  0.363787  ... -0.018307  0.277838 -0.110474   \n",
            "1    -0.078803  0.085102 -0.255425  ... -0.225775 -0.638672  0.101288   \n",
            "2     0.791461  0.247676 -1.514654  ...  0.247998  0.771679  0.909412   \n",
            "3     0.237609  0.377436 -1.387024  ... -0.108300  0.005274 -0.190321   \n",
            "4     0.592941 -0.270533  0.817739  ... -0.009431  0.798278 -0.137458   \n",
            "...        ...       ...       ...  ...       ...       ...       ...   \n",
            "1521  0.121847 -0.162560 -0.004312  ... -0.265279 -0.760781  0.130850   \n",
            "1522  0.264589  0.131609  0.023232  ... -0.182304 -0.208197 -0.251864   \n",
            "1523 -0.740988  0.590885 -0.981958  ...  0.071230 -0.135535 -0.335060   \n",
            "1524 -1.676004  0.867311 -1.858664  ...  0.254042 -0.292191 -0.271154   \n",
            "1525 -0.650572  0.245193 -0.753078  ... -0.061448 -0.608559 -0.038624   \n",
            "\n",
            "           V24       V25       V26       V27       V28    Amount  Class  \n",
            "0     0.066928  0.128539 -0.189115  0.133558 -0.021053  0.409447      0  \n",
            "1    -0.339846  0.167170  0.125895 -0.008983  0.014724 -0.333712      1  \n",
            "2    -0.689281 -0.327642 -0.139097 -0.055353 -0.059752  1.567910      0  \n",
            "3    -1.175575  0.647376 -0.221929  0.062723  0.061458  0.277334      0  \n",
            "4     0.141267 -0.206010  0.502292  0.219422  0.215153  0.006685      0  \n",
            "...        ...       ...       ...       ...       ...       ...    ...  \n",
            "1521  0.110143  0.001360  0.091801  0.012469  0.058135 -0.341000      1  \n",
            "1522 -0.222550 -0.320742  0.236571 -0.336827 -0.372906 -0.342222      1  \n",
            "1523 -0.036765 -0.198434  0.217835 -0.126926 -0.297082 -0.344081      1  \n",
            "1524  0.327703  0.102323  0.150526  0.168405 -0.086251 -0.345182      1  \n",
            "1525  0.334024  0.167776  0.118064  0.056586 -0.018047 -0.337535      1  \n",
            "\n",
            "[1526 rows x 31 columns]\n"
          ]
        }
      ],
      "source": [
        "print(resampled_data_os)"
      ]
    },
    {
      "cell_type": "code",
      "execution_count": 21,
      "metadata": {
        "colab": {
          "base_uri": "https://localhost:8080/",
          "height": 292
        },
        "id": "PgNn8AAZ-sgU",
        "outputId": "d028becb-ea78-4ba1-c025-ab751ddb3347"
      },
      "outputs": [
        {
          "data": {
            "image/png": "[encoded data removed]",
            "text/plain": [
              "<Figure size 432x288 with 1 Axes>"
            ]
          },
          "metadata": {
            "needs_background": "light"
          },
          "output_type": "display_data"
        }
      ],
      "source": [
        "\n",
        "counts = resampled_data_os['Class'].value_counts()\n",
        "counts.plot(kind='bar')\n",
        "\n",
        "plt.xlabel('Value')\n",
        "plt.ylabel('Count')\n",
        "plt.title('Count of 0s and 1s in Class')\n",
        "plt.show()"
      ]
    },
    {
      "cell_type": "markdown",
      "metadata": {
        "id": "epQREKFMDoH6"
      },
      "source": [
        "WE AVOID UNDER-SAMPLING AS IT MESSES UP OUR DATASET AND SO WE USE OVER SAMPLING TO OBTAIN OUR NOW BALANCED DATASET."
      ]
    },
    {
      "cell_type": "markdown",
      "metadata": {
        "id": "1Dh5acPqEUms"
      },
      "source": [
        "NOW WE START OUR SAMPLE CREATION. WE NEED TO CREATE 5 SAMPLES SO WE CHOOSE 5 SAMPLING TECHNIQUES"
      ]
    },
    {
      "cell_type": "code",
      "execution_count": 45,
      "metadata": {
        "id": "_QtyjgoAE5ew"
      },
      "outputs": [],
      "source": [
        "#first we need to find the optimal n for Simple random sampling \n",
        "#values obtained from sampling ppt\n",
        "\n",
        "p = 0.5\n",
        "Z = 1.96\n",
        "E = 0.05\n",
        "\n",
        "n1 = int(round((Z**2 * p * (1-p)) / E**2))"
      ]
    },
    {
      "cell_type": "code",
      "execution_count": 46,
      "metadata": {
        "colab": {
          "base_uri": "https://localhost:8080/"
        },
        "id": "FcS1SWbwDvII",
        "outputId": "9c18175d-432e-41f7-868f-f9484a230399"
      },
      "outputs": [
        {
          "name": "stdout",
          "output_type": "stream",
          "text": [
            "          Time        V1        V2        V3        V4        V5        V6  \\\n",
            "66   -1.391808 -0.714764  0.514969  1.821676  0.616434  0.848776 -0.111938   \n",
            "254  -0.605657 -0.431092  0.890752  1.720543 -0.238246  0.273263 -0.970191   \n",
            "910   1.451353 -1.915800 -1.670981  2.052962  0.558711  1.963279  0.307572   \n",
            "163  -1.048231  1.245744  0.438878  0.316140  1.107634 -0.178446 -0.941091   \n",
            "868   0.471814 -1.949963  1.777704 -1.426208  3.630920 -0.461997 -1.287579   \n",
            "...        ...       ...       ...       ...       ...       ...       ...   \n",
            "369  -0.081557 -0.334463  0.826789  2.207683  0.470566 -0.534082 -0.702739   \n",
            "1216  0.550549  1.235178  0.330997  0.258856  0.607647 -0.214795 -0.730321   \n",
            "543   0.722064 -0.918109  0.798542  1.753494 -0.576985 -0.554780  0.119542   \n",
            "1042  0.106001  0.162173  0.374268  1.022627  0.437604  0.298219 -0.985534   \n",
            "54   -1.432571  1.295668  0.341483  0.081505  0.566746 -0.110459 -0.766325   \n",
            "\n",
            "            V7        V8        V9  ...       V21       V22       V23  \\\n",
            "66    1.505617 -0.798167  0.244757  ... -0.220075 -0.017845 -0.431938   \n",
            "254   1.249910 -0.483676 -0.871157  ... -0.412644 -1.112005 -0.057684   \n",
            "910  -1.340347  0.578772  0.656169  ...  0.227670  0.746477  0.116735   \n",
            "163   0.286291 -0.290079 -0.169188  ...  0.038621  0.208207 -0.111479   \n",
            "868  -2.283211  1.256581 -2.510115  ...  0.440418 -0.097454 -0.406644   \n",
            "...        ...       ...       ...  ...       ...       ...       ...   \n",
            "369   0.286891 -0.039518 -0.398304  ...  0.053746  0.174343  0.010815   \n",
            "1216  0.035037 -0.109198 -0.077912  ... -0.265951 -0.758373  0.118636   \n",
            "543   1.096153 -0.114591 -0.213291  ...  0.050748  0.201314  0.023568   \n",
            "1042  0.483349 -0.179686 -0.053582  ... -0.110418 -0.275019 -0.065161   \n",
            "54    0.073155 -0.168304  0.071837  ... -0.323607 -0.929781  0.063809   \n",
            "\n",
            "           V24       V25       V26       V27       V28    Amount  Class  \n",
            "66   -0.130458  0.337159 -0.440042 -0.674526 -0.473218 -0.044349      0  \n",
            "254   0.430112 -0.063250  0.723811 -0.210697 -0.161058 -0.205747      0  \n",
            "910  -0.656618 -0.256764  0.660186 -0.195969 -0.239818 -0.340549      1  \n",
            "163   0.419907  0.722345 -0.331446  0.020337  0.022443 -0.326125      0  \n",
            "868   0.251961  0.057199  0.172470  0.233218 -0.126941 -0.345911      1  \n",
            "...        ...       ...       ...       ...       ...       ...    ...  \n",
            "369   0.735725 -0.622745  0.219987  0.131556  0.152586 -0.314593      0  \n",
            "1216  0.109378  0.202656  0.105173 -0.017669  0.025393 -0.338370      1  \n",
            "543   0.107428 -0.464466  0.004938 -0.068013  0.093834  0.392401      0  \n",
            "1042  0.362431  0.303630 -0.179887 -0.063947 -0.047526 -0.337991      1  \n",
            "54   -0.193565  0.287574  0.127881 -0.023731  0.025200 -0.342311      0  \n",
            "\n",
            "[384 rows x 31 columns]\n"
          ]
        }
      ],
      "source": [
        "#SIMPLE RANDOM SAMPLING\n",
        "sample1 = resampled_data_os.sample(n1,random_state=50)\n",
        "print(sample1)\n",
        "\n"
      ]
    },
    {
      "cell_type": "code",
      "execution_count": 50,
      "metadata": {
        "id": "v2oGn-s3Id9S"
      },
      "outputs": [],
      "source": [
        "#Stratified Sampling\n",
        "Z= 1.96\n",
        "p= 0.5\n",
        "S= 5\n",
        "E=0.05\n",
        "\n",
        "n2 = int(round((Z**2 * p * (1-p)) / (E/S)**2))\n"
      ]
    },
    {
      "cell_type": "code",
      "execution_count": 53,
      "metadata": {
        "colab": {
          "base_uri": "https://localhost:8080/"
        },
        "id": "T6vlqCQgL9ls",
        "outputId": "ed02867f-9b2f-4c2d-ef3f-ff4f579964b1"
      },
      "outputs": [
        {
          "name": "stdout",
          "output_type": "stream",
          "text": [
            "                Time        V1        V2        V3        V4        V5  \\\n",
            "Class                                                                    \n",
            "0     328  -0.244610 -1.142321  0.626405  2.526917  2.827973  0.619263   \n",
            "      552   0.757004 -1.075652  1.101233  0.579164 -0.459366  0.600011   \n",
            "      417   0.110613 -0.986171  1.732934  0.857587  0.178950 -0.794223   \n",
            "      724   1.543154 -1.233426 -0.212441  1.839632 -1.802986 -0.493195   \n",
            "      200  -0.879354 -1.571359  1.687508  0.734670  1.293350 -0.217532   \n",
            "...              ...       ...       ...       ...       ...       ...   \n",
            "1     1436  1.201734 -1.056081  0.052853  1.827777  0.296930  1.144879   \n",
            "      969   0.593618 -0.337263  0.385228  1.351766  0.320823  0.604299   \n",
            "      1503 -0.269698  1.219016  0.306804  0.224392  0.548144 -0.112268   \n",
            "      1335  0.491605  0.661059  0.458602  0.379963  0.400590  0.237113   \n",
            "      1098  1.039685  0.932904  0.415837  0.346685  0.532739 -0.033932   \n",
            "\n",
            "                  V6        V7        V8        V9  ...       V21       V22  \\\n",
            "Class                                               ...                       \n",
            "0     328   0.897473  0.536278 -0.060163 -0.813749  ... -0.309746 -0.269173   \n",
            "      552   0.160927  0.573488  0.274773 -0.581368  ... -0.074954 -0.016218   \n",
            "      417  -0.088469 -1.266790 -4.922224  0.010309  ...  4.332858 -2.331390   \n",
            "      724   0.350424 -0.905316  0.844863 -1.523517  ...  0.668410  1.574750   \n",
            "      200  -0.002677  0.147364  0.515362 -0.372442  ...  0.048549  0.377256   \n",
            "...              ...       ...       ...       ...  ...       ...       ...   \n",
            "1     1436 -0.722554  0.522276 -0.043818 -0.010729  ...  0.108851  0.390459   \n",
            "      969  -0.946811  0.664599 -0.169106 -0.094139  ... -0.029441 -0.020140   \n",
            "      1503 -0.488580 -0.007435 -0.036709 -0.144139  ... -0.250962 -0.713715   \n",
            "      1335 -0.402934  0.196071 -0.034058 -0.054826  ... -0.207200 -0.599610   \n",
            "      1098 -0.705709  0.149690 -0.114356 -0.023261  ... -0.243492 -0.700322   \n",
            "\n",
            "                 V23       V24       V25       V26       V27       V28  \\\n",
            "Class                                                                    \n",
            "0     328   0.177396 -0.019578  0.048651  0.068831 -0.246503 -0.230837   \n",
            "      552  -0.267397 -0.982177 -0.009294  0.266081  0.158421 -0.059168   \n",
            "      417   0.568103  0.638796  0.867788  0.181051  0.225638  0.179027   \n",
            "      724  -0.176482 -0.221561 -0.058504 -0.163971  0.014670 -0.033210   \n",
            "      200  -0.030436  0.117608 -0.060520 -0.296550 -0.481570 -0.167897   \n",
            "...              ...       ...       ...       ...       ...       ...   \n",
            "1     1436 -0.191635  0.237101  0.318265 -0.296932 -0.106856 -0.131171   \n",
            "      969  -0.153483  0.372946  0.343707 -0.305388 -0.082500 -0.083366   \n",
            "      1503  0.112164 -0.058218  0.189417  0.112904 -0.014429  0.021413   \n",
            "      1335  0.139427 -0.516978 -0.590165  0.084829  0.105756  0.131323   \n",
            "      1098  0.134067 -0.125104 -0.220534  0.089186  0.047463  0.085589   \n",
            "\n",
            "              Amount  Class  \n",
            "Class                        \n",
            "0     328  -0.293603      0  \n",
            "      552  -0.145002      0  \n",
            "      417  -0.296790      0  \n",
            "      724  -0.220921      0  \n",
            "      200  -0.296739      0  \n",
            "...              ...    ...  \n",
            "1     1436 -0.341958      1  \n",
            "      969  -0.339947      1  \n",
            "      1503 -0.336632      1  \n",
            "      1335 -0.341558      1  \n",
            "      1098 -0.341210      1  \n",
            "\n",
            "[1526 rows x 31 columns]\n"
          ]
        }
      ],
      "source": [
        "\n",
        "import pandas as pd\n",
        "\n",
        "sample_size = n2  \n",
        "\n",
        "sample2 = resampled_data_os.groupby('Class').apply(lambda x: x.sample(n=min(len(x), sample_size)))\n",
        "\n",
        "print(sample2)\n",
        "\n"
      ]
    },
    {
      "cell_type": "code",
      "execution_count": 25,
      "metadata": {
        "colab": {
          "base_uri": "https://localhost:8080/"
        },
        "id": "osPielDjG7Z1",
        "outputId": "467eb784-d990-40be-9b9b-287cef98d9be"
      },
      "outputs": [
        {
          "name": "stdout",
          "output_type": "stream",
          "text": [
            "763.0\n"
          ]
        }
      ],
      "source": [
        "\n",
        "# clusters = resampled_data_os.groupby('Class')\n",
        "\n",
        "# cluster_sizes = clusters.size()\n",
        "\n",
        "# mean_cluster_size = cluster_sizes.mean()\n",
        "\n",
        "# print(mean_cluster_size)\n",
        "\n"
      ]
    },
    {
      "cell_type": "code",
      "execution_count": null,
      "metadata": {
        "id": "J9ES-I6wGpYL"
      },
      "outputs": [],
      "source": [
        "# Z= 1.96\n",
        "# p= 0.5\n",
        "# C = 763\n",
        "# E=0.05\n",
        "\n",
        "# n = int(round((Z**2 * p * (1-p)) / (E/S)**2, 0))\n",
        "\n",
        "#Causes system crashes"
      ]
    },
    {
      "cell_type": "code",
      "execution_count": 28,
      "metadata": {
        "colab": {
          "base_uri": "https://localhost:8080/",
          "height": 488
        },
        "id": "_qGd12a6Icvz",
        "outputId": "9a060d6c-410b-4980-e5f5-c2fbb52d350c"
      },
      "outputs": [
        {
          "data": {
            "text/html": [
              "\n",
              "  <div id=\"df-55a46179-ae8e-426b-936c-797bb7290159\">\n",
              "    <div class=\"colab-df-container\">\n",
              "      <div>\n",
              "<style scoped>\n",
              "    .dataframe tbody tr th:only-of-type {\n",
              "        vertical-align: middle;\n",
              "    }\n",
              "\n",
              "    .dataframe tbody tr th {\n",
              "        vertical-align: top;\n",
              "    }\n",
              "\n",
              "    .dataframe thead th {\n",
              "        text-align: right;\n",
              "    }\n",
              "</style>\n",
              "<table border=\"1\" class=\"dataframe\">\n",
              "  <thead>\n",
              "    <tr style=\"text-align: right;\">\n",
              "      <th></th>\n",
              "      <th>Time</th>\n",
              "      <th>V1</th>\n",
              "      <th>V2</th>\n",
              "      <th>V3</th>\n",
              "      <th>V4</th>\n",
              "      <th>V5</th>\n",
              "      <th>V6</th>\n",
              "      <th>V7</th>\n",
              "      <th>V8</th>\n",
              "      <th>V9</th>\n",
              "      <th>...</th>\n",
              "      <th>V21</th>\n",
              "      <th>V22</th>\n",
              "      <th>V23</th>\n",
              "      <th>V24</th>\n",
              "      <th>V25</th>\n",
              "      <th>V26</th>\n",
              "      <th>V27</th>\n",
              "      <th>V28</th>\n",
              "      <th>Amount</th>\n",
              "      <th>Class</th>\n",
              "    </tr>\n",
              "  </thead>\n",
              "  <tbody>\n",
              "    <tr>\n",
              "      <th>3</th>\n",
              "      <td>-1.642211</td>\n",
              "      <td>-0.966272</td>\n",
              "      <td>-0.185226</td>\n",
              "      <td>1.792993</td>\n",
              "      <td>-0.863291</td>\n",
              "      <td>-0.010309</td>\n",
              "      <td>1.247203</td>\n",
              "      <td>0.237609</td>\n",
              "      <td>0.377436</td>\n",
              "      <td>-1.387024</td>\n",
              "      <td>...</td>\n",
              "      <td>-0.108300</td>\n",
              "      <td>0.005274</td>\n",
              "      <td>-0.190321</td>\n",
              "      <td>-1.175575</td>\n",
              "      <td>0.647376</td>\n",
              "      <td>-0.221929</td>\n",
              "      <td>0.062723</td>\n",
              "      <td>0.061458</td>\n",
              "      <td>0.277334</td>\n",
              "      <td>0</td>\n",
              "    </tr>\n",
              "    <tr>\n",
              "      <th>5</th>\n",
              "      <td>-1.636388</td>\n",
              "      <td>-0.425966</td>\n",
              "      <td>0.960523</td>\n",
              "      <td>1.141109</td>\n",
              "      <td>-0.168252</td>\n",
              "      <td>0.420987</td>\n",
              "      <td>-0.029728</td>\n",
              "      <td>0.476201</td>\n",
              "      <td>0.260314</td>\n",
              "      <td>-0.568671</td>\n",
              "      <td>...</td>\n",
              "      <td>-0.208254</td>\n",
              "      <td>-0.559825</td>\n",
              "      <td>-0.026398</td>\n",
              "      <td>-0.371427</td>\n",
              "      <td>-0.232794</td>\n",
              "      <td>0.105915</td>\n",
              "      <td>0.253844</td>\n",
              "      <td>0.081080</td>\n",
              "      <td>-0.328756</td>\n",
              "      <td>0</td>\n",
              "    </tr>\n",
              "    <tr>\n",
              "      <th>9</th>\n",
              "      <td>-1.595624</td>\n",
              "      <td>-0.338262</td>\n",
              "      <td>1.119593</td>\n",
              "      <td>1.044367</td>\n",
              "      <td>-0.222187</td>\n",
              "      <td>0.499361</td>\n",
              "      <td>-0.246761</td>\n",
              "      <td>0.651583</td>\n",
              "      <td>0.069539</td>\n",
              "      <td>-0.736727</td>\n",
              "      <td>...</td>\n",
              "      <td>-0.246914</td>\n",
              "      <td>-0.633753</td>\n",
              "      <td>-0.120794</td>\n",
              "      <td>-0.385050</td>\n",
              "      <td>-0.069733</td>\n",
              "      <td>0.094199</td>\n",
              "      <td>0.246219</td>\n",
              "      <td>0.083076</td>\n",
              "      <td>-0.328705</td>\n",
              "      <td>0</td>\n",
              "    </tr>\n",
              "    <tr>\n",
              "      <th>10</th>\n",
              "      <td>-1.589801</td>\n",
              "      <td>1.449044</td>\n",
              "      <td>-1.176339</td>\n",
              "      <td>0.913860</td>\n",
              "      <td>-1.375667</td>\n",
              "      <td>-1.971383</td>\n",
              "      <td>-0.629152</td>\n",
              "      <td>-1.423236</td>\n",
              "      <td>0.048456</td>\n",
              "      <td>-1.720408</td>\n",
              "      <td>...</td>\n",
              "      <td>-0.009302</td>\n",
              "      <td>0.313894</td>\n",
              "      <td>0.027740</td>\n",
              "      <td>0.500512</td>\n",
              "      <td>0.251367</td>\n",
              "      <td>-0.129478</td>\n",
              "      <td>0.042850</td>\n",
              "      <td>0.016253</td>\n",
              "      <td>-0.307866</td>\n",
              "      <td>0</td>\n",
              "    </tr>\n",
              "    <tr>\n",
              "      <th>12</th>\n",
              "      <td>-1.589801</td>\n",
              "      <td>1.249999</td>\n",
              "      <td>-1.221637</td>\n",
              "      <td>0.383930</td>\n",
              "      <td>-1.234899</td>\n",
              "      <td>-1.485419</td>\n",
              "      <td>-0.753230</td>\n",
              "      <td>-0.689405</td>\n",
              "      <td>-0.227487</td>\n",
              "      <td>-2.094011</td>\n",
              "      <td>...</td>\n",
              "      <td>-0.231809</td>\n",
              "      <td>-0.483285</td>\n",
              "      <td>0.084668</td>\n",
              "      <td>0.392831</td>\n",
              "      <td>0.161135</td>\n",
              "      <td>-0.354990</td>\n",
              "      <td>0.026416</td>\n",
              "      <td>0.042422</td>\n",
              "      <td>0.267218</td>\n",
              "      <td>0</td>\n",
              "    </tr>\n",
              "    <tr>\n",
              "      <th>...</th>\n",
              "      <td>...</td>\n",
              "      <td>...</td>\n",
              "      <td>...</td>\n",
              "      <td>...</td>\n",
              "      <td>...</td>\n",
              "      <td>...</td>\n",
              "      <td>...</td>\n",
              "      <td>...</td>\n",
              "      <td>...</td>\n",
              "      <td>...</td>\n",
              "      <td>...</td>\n",
              "      <td>...</td>\n",
              "      <td>...</td>\n",
              "      <td>...</td>\n",
              "      <td>...</td>\n",
              "      <td>...</td>\n",
              "      <td>...</td>\n",
              "      <td>...</td>\n",
              "      <td>...</td>\n",
              "      <td>...</td>\n",
              "      <td>...</td>\n",
              "    </tr>\n",
              "    <tr>\n",
              "      <th>1512</th>\n",
              "      <td>1.367244</td>\n",
              "      <td>-1.426060</td>\n",
              "      <td>0.185945</td>\n",
              "      <td>1.400705</td>\n",
              "      <td>-0.333013</td>\n",
              "      <td>0.938269</td>\n",
              "      <td>-0.526698</td>\n",
              "      <td>0.504270</td>\n",
              "      <td>0.026024</td>\n",
              "      <td>-0.040383</td>\n",
              "      <td>...</td>\n",
              "      <td>-0.084728</td>\n",
              "      <td>-0.009490</td>\n",
              "      <td>-0.260370</td>\n",
              "      <td>0.002695</td>\n",
              "      <td>-0.055038</td>\n",
              "      <td>-0.027348</td>\n",
              "      <td>-0.252324</td>\n",
              "      <td>-0.284158</td>\n",
              "      <td>-0.342260</td>\n",
              "      <td>1</td>\n",
              "    </tr>\n",
              "    <tr>\n",
              "      <th>1515</th>\n",
              "      <td>1.589322</td>\n",
              "      <td>-0.289395</td>\n",
              "      <td>0.203641</td>\n",
              "      <td>0.761372</td>\n",
              "      <td>-0.005024</td>\n",
              "      <td>0.302307</td>\n",
              "      <td>-0.666959</td>\n",
              "      <td>0.184534</td>\n",
              "      <td>-0.029100</td>\n",
              "      <td>0.019107</td>\n",
              "      <td>...</td>\n",
              "      <td>-0.231447</td>\n",
              "      <td>-0.496074</td>\n",
              "      <td>-0.073474</td>\n",
              "      <td>0.043338</td>\n",
              "      <td>-0.066048</td>\n",
              "      <td>0.169742</td>\n",
              "      <td>-0.188936</td>\n",
              "      <td>-0.183083</td>\n",
              "      <td>-0.341551</td>\n",
              "      <td>1</td>\n",
              "    </tr>\n",
              "    <tr>\n",
              "      <th>1518</th>\n",
              "      <td>1.520013</td>\n",
              "      <td>-1.308301</td>\n",
              "      <td>0.097544</td>\n",
              "      <td>1.060666</td>\n",
              "      <td>-0.463176</td>\n",
              "      <td>0.737038</td>\n",
              "      <td>-0.403181</td>\n",
              "      <td>0.243979</td>\n",
              "      <td>0.090236</td>\n",
              "      <td>0.022170</td>\n",
              "      <td>...</td>\n",
              "      <td>-0.194956</td>\n",
              "      <td>-0.282309</td>\n",
              "      <td>-0.205939</td>\n",
              "      <td>-0.154099</td>\n",
              "      <td>-0.255173</td>\n",
              "      <td>0.219366</td>\n",
              "      <td>-0.298754</td>\n",
              "      <td>-0.324038</td>\n",
              "      <td>-0.342050</td>\n",
              "      <td>1</td>\n",
              "    </tr>\n",
              "    <tr>\n",
              "      <th>1519</th>\n",
              "      <td>0.709062</td>\n",
              "      <td>-1.008785</td>\n",
              "      <td>0.105887</td>\n",
              "      <td>0.932892</td>\n",
              "      <td>-0.381511</td>\n",
              "      <td>0.706298</td>\n",
              "      <td>-0.239632</td>\n",
              "      <td>0.182445</td>\n",
              "      <td>0.126802</td>\n",
              "      <td>-0.045991</td>\n",
              "      <td>...</td>\n",
              "      <td>-0.191059</td>\n",
              "      <td>-0.303266</td>\n",
              "      <td>-0.171436</td>\n",
              "      <td>-0.262971</td>\n",
              "      <td>-0.209970</td>\n",
              "      <td>0.211825</td>\n",
              "      <td>-0.261415</td>\n",
              "      <td>-0.284374</td>\n",
              "      <td>-0.340131</td>\n",
              "      <td>1</td>\n",
              "    </tr>\n",
              "    <tr>\n",
              "      <th>1522</th>\n",
              "      <td>1.495984</td>\n",
              "      <td>-1.661549</td>\n",
              "      <td>0.060761</td>\n",
              "      <td>1.164429</td>\n",
              "      <td>-0.622014</td>\n",
              "      <td>0.887756</td>\n",
              "      <td>-0.311731</td>\n",
              "      <td>0.264589</td>\n",
              "      <td>0.131609</td>\n",
              "      <td>0.023232</td>\n",
              "      <td>...</td>\n",
              "      <td>-0.182304</td>\n",
              "      <td>-0.208197</td>\n",
              "      <td>-0.251864</td>\n",
              "      <td>-0.222550</td>\n",
              "      <td>-0.320742</td>\n",
              "      <td>0.236571</td>\n",
              "      <td>-0.336827</td>\n",
              "      <td>-0.372906</td>\n",
              "      <td>-0.342222</td>\n",
              "      <td>1</td>\n",
              "    </tr>\n",
              "  </tbody>\n",
              "</table>\n",
              "<p>358 rows × 31 columns</p>\n",
              "</div>\n",
              "      <button class=\"colab-df-convert\" onclick=\"convertToInteractive('df-55a46179-ae8e-426b-936c-797bb7290159')\"\n",
              "              title=\"Convert this dataframe to an interactive table.\"\n",
              "              style=\"display:none;\">\n",
              "        \n",
              "  <svg xmlns=\"http://www.w3.org/2000/svg\" height=\"24px\"viewBox=\"0 0 24 24\"\n",
              "       width=\"24px\">\n",
              "    <path d=\"M0 0h24v24H0V0z\" fill=\"none\"/>\n",
              "    <path d=\"M18.56 5.44l.94 2.06.94-2.06 2.06-.94-2.06-.94-.94-2.06-.94 2.06-2.06.94zm-11 1L8.5 8.5l.94-2.06 2.06-.94-2.06-.94L8.5 2.5l-.94 2.06-2.06.94zm10 10l.94 2.06.94-2.06 2.06-.94-2.06-.94-.94-2.06-.94 2.06-2.06.94z\"/><path d=\"M17.41 7.96l-1.37-1.37c-.4-.4-.92-.59-1.43-.59-.52 0-1.04.2-1.43.59L10.3 9.45l-7.72 7.72c-.78.78-.78 2.05 0 2.83L4 21.41c.39.39.9.59 1.41.59.51 0 1.02-.2 1.41-.59l7.78-7.78 2.81-2.81c.8-.78.8-2.07 0-2.86zM5.41 20L4 18.59l7.72-7.72 1.47 1.35L5.41 20z\"/>\n",
              "  </svg>\n",
              "      </button>\n",
              "      \n",
              "  <style>\n",
              "    .colab-df-container {\n",
              "      display:flex;\n",
              "      flex-wrap:wrap;\n",
              "      gap: 12px;\n",
              "    }\n",
              "\n",
              "    .colab-df-convert {\n",
              "      background-color: #E8F0FE;\n",
              "      border: none;\n",
              "      border-radius: 50%;\n",
              "      cursor: pointer;\n",
              "      display: none;\n",
              "      fill: #1967D2;\n",
              "      height: 32px;\n",
              "      padding: 0 0 0 0;\n",
              "      width: 32px;\n",
              "    }\n",
              "\n",
              "    .colab-df-convert:hover {\n",
              "      background-color: #E2EBFA;\n",
              "      box-shadow: 0px 1px 2px rgba(60, 64, 67, 0.3), 0px 1px 3px 1px rgba(60, 64, 67, 0.15);\n",
              "      fill: #174EA6;\n",
              "    }\n",
              "\n",
              "    [theme=dark] .colab-df-convert {\n",
              "      background-color: #3B4455;\n",
              "      fill: #D2E3FC;\n",
              "    }\n",
              "\n",
              "    [theme=dark] .colab-df-convert:hover {\n",
              "      background-color: #434B5C;\n",
              "      box-shadow: 0px 1px 3px 1px rgba(0, 0, 0, 0.15);\n",
              "      filter: drop-shadow(0px 1px 2px rgba(0, 0, 0, 0.3));\n",
              "      fill: #FFFFFF;\n",
              "    }\n",
              "  </style>\n",
              "\n",
              "      <script>\n",
              "        const buttonEl =\n",
              "          document.querySelector('#df-55a46179-ae8e-426b-936c-797bb7290159 button.colab-df-convert');\n",
              "        buttonEl.style.display =\n",
              "          google.colab.kernel.accessAllowed ? 'block' : 'none';\n",
              "\n",
              "        async function convertToInteractive(key) {\n",
              "          const element = document.querySelector('#df-55a46179-ae8e-426b-936c-797bb7290159');\n",
              "          const dataTable =\n",
              "            await google.colab.kernel.invokeFunction('convertToInteractive',\n",
              "                                                     [key], {});\n",
              "          if (!dataTable) return;\n",
              "\n",
              "          const docLinkHtml = 'Like what you see? Visit the ' +\n",
              "            '<a target=\"_blank\" href=https://colab.research.google.com/notebooks/data_table.ipynb>data table notebook</a>'\n",
              "            + ' to learn more about interactive tables.';\n",
              "          element.innerHTML = '';\n",
              "          dataTable['output_type'] = 'display_data';\n",
              "          await google.colab.output.renderOutput(dataTable, element);\n",
              "          const docLink = document.createElement('div');\n",
              "          docLink.innerHTML = docLinkHtml;\n",
              "          element.appendChild(docLink);\n",
              "        }\n",
              "      </script>\n",
              "    </div>\n",
              "  </div>\n",
              "  "
            ],
            "text/plain": [
              "          Time        V1        V2        V3        V4        V5        V6  \\\n",
              "3    -1.642211 -0.966272 -0.185226  1.792993 -0.863291 -0.010309  1.247203   \n",
              "5    -1.636388 -0.425966  0.960523  1.141109 -0.168252  0.420987 -0.029728   \n",
              "9    -1.595624 -0.338262  1.119593  1.044367 -0.222187  0.499361 -0.246761   \n",
              "10   -1.589801  1.449044 -1.176339  0.913860 -1.375667 -1.971383 -0.629152   \n",
              "12   -1.589801  1.249999 -1.221637  0.383930 -1.234899 -1.485419 -0.753230   \n",
              "...        ...       ...       ...       ...       ...       ...       ...   \n",
              "1512  1.367244 -1.426060  0.185945  1.400705 -0.333013  0.938269 -0.526698   \n",
              "1515  1.589322 -0.289395  0.203641  0.761372 -0.005024  0.302307 -0.666959   \n",
              "1518  1.520013 -1.308301  0.097544  1.060666 -0.463176  0.737038 -0.403181   \n",
              "1519  0.709062 -1.008785  0.105887  0.932892 -0.381511  0.706298 -0.239632   \n",
              "1522  1.495984 -1.661549  0.060761  1.164429 -0.622014  0.887756 -0.311731   \n",
              "\n",
              "            V7        V8        V9  ...       V21       V22       V23  \\\n",
              "3     0.237609  0.377436 -1.387024  ... -0.108300  0.005274 -0.190321   \n",
              "5     0.476201  0.260314 -0.568671  ... -0.208254 -0.559825 -0.026398   \n",
              "9     0.651583  0.069539 -0.736727  ... -0.246914 -0.633753 -0.120794   \n",
              "10   -1.423236  0.048456 -1.720408  ... -0.009302  0.313894  0.027740   \n",
              "12   -0.689405 -0.227487 -2.094011  ... -0.231809 -0.483285  0.084668   \n",
              "...        ...       ...       ...  ...       ...       ...       ...   \n",
              "1512  0.504270  0.026024 -0.040383  ... -0.084728 -0.009490 -0.260370   \n",
              "1515  0.184534 -0.029100  0.019107  ... -0.231447 -0.496074 -0.073474   \n",
              "1518  0.243979  0.090236  0.022170  ... -0.194956 -0.282309 -0.205939   \n",
              "1519  0.182445  0.126802 -0.045991  ... -0.191059 -0.303266 -0.171436   \n",
              "1522  0.264589  0.131609  0.023232  ... -0.182304 -0.208197 -0.251864   \n",
              "\n",
              "           V24       V25       V26       V27       V28    Amount  Class  \n",
              "3    -1.175575  0.647376 -0.221929  0.062723  0.061458  0.277334      0  \n",
              "5    -0.371427 -0.232794  0.105915  0.253844  0.081080 -0.328756      0  \n",
              "9    -0.385050 -0.069733  0.094199  0.246219  0.083076 -0.328705      0  \n",
              "10    0.500512  0.251367 -0.129478  0.042850  0.016253 -0.307866      0  \n",
              "12    0.392831  0.161135 -0.354990  0.026416  0.042422  0.267218      0  \n",
              "...        ...       ...       ...       ...       ...       ...    ...  \n",
              "1512  0.002695 -0.055038 -0.027348 -0.252324 -0.284158 -0.342260      1  \n",
              "1515  0.043338 -0.066048  0.169742 -0.188936 -0.183083 -0.341551      1  \n",
              "1518 -0.154099 -0.255173  0.219366 -0.298754 -0.324038 -0.342050      1  \n",
              "1519 -0.262971 -0.209970  0.211825 -0.261415 -0.284374 -0.340131      1  \n",
              "1522 -0.222550 -0.320742  0.236571 -0.336827 -0.372906 -0.342222      1  \n",
              "\n",
              "[358 rows x 31 columns]"
            ]
          },
          "execution_count": 28,
          "metadata": {},
          "output_type": "execute_result"
        }
      ],
      "source": [
        "#Cluster Sampling\n",
        "\n",
        "from sklearn.cluster import KMeans\n",
        "kmeans = KMeans(n_clusters=20, random_state=50).fit(resampled_data_os)\n",
        "clusters = kmeans.labels_\n",
        "\n",
        "selected_clusters = [0,5,10,15,20]\n",
        "\n",
        "cluster_series = pd.Series(clusters)\n",
        "\n",
        "sample3 = resampled_data_os[cluster_series.isin(selected_clusters)]\n",
        "\n",
        "sample3\n"
      ]
    },
    {
      "cell_type": "code",
      "execution_count": 54,
      "metadata": {
        "colab": {
          "base_uri": "https://localhost:8080/"
        },
        "id": "HDHBeNuOP4sp",
        "outputId": "3847fac2-e8cc-49d0-e0b2-239f2f141161"
      },
      "outputs": [
        {
          "name": "stdout",
          "output_type": "stream",
          "text": [
            "         Time        V1        V2        V3        V4        V5        V6  \\\n",
            "6   -1.624741  1.229658  0.141004  0.045371  1.202613  0.191881  0.272708   \n",
            "16  -1.578154  1.103215 -0.040296  1.267332  1.289091 -0.735997  0.288069   \n",
            "26  -1.514098  1.173285  0.353498  0.283905  1.133563 -0.172577 -0.916054   \n",
            "36  -1.490804 -0.246046  0.473267  1.695738  0.262411 -0.010866 -0.610836   \n",
            "46  -1.450041 -0.291540  0.445575  1.249752 -1.735736  0.085756 -0.121924   \n",
            "..        ...       ...       ...       ...       ...       ...       ...   \n",
            "726  1.548977  1.422461 -0.547422 -0.147438 -0.615979 -0.677018 -0.825597   \n",
            "736  1.572271 -2.618386 -2.302449 -0.386400  0.854628 -0.861209  2.036707   \n",
            "746  1.607211 -0.988420  1.044010  1.410774  0.142819 -0.477672 -0.477863   \n",
            "756  1.636327 -0.203837  0.532747 -0.339857 -0.730934  2.728163  3.535882   \n",
            "766  1.694561  1.257719  0.364739  0.306923  0.690638 -0.357792 -1.067481   \n",
            "\n",
            "           V7        V8        V9  ...       V21       V22       V23  \\\n",
            "6   -0.005159  0.081213  0.464960  ... -0.167716 -0.270710 -0.154104   \n",
            "16  -0.586057  0.189380  0.782333  ... -0.024612  0.196002  0.013802   \n",
            "26   0.369025 -0.327260 -0.246651  ...  0.067003  0.227812 -0.150487   \n",
            "36   0.793937 -0.247253  0.138879  ... -0.194600 -0.335133 -0.078180   \n",
            "46   0.407716  0.095309  0.815902  ... -0.064906 -0.120449 -0.156526   \n",
            "..        ...       ...       ...  ...       ...       ...       ...   \n",
            "726 -0.295487 -0.237954 -0.639154  ...  0.122827  0.342161 -0.236404   \n",
            "736  3.885511 -0.016542 -1.569959  ...  0.615239 -0.145438  2.002551   \n",
            "746  0.168853  0.590441 -0.405238  ... -0.080783 -0.192734 -0.073254   \n",
            "756  0.263680  0.919169 -0.194501  ... -0.082087 -0.271636 -0.157778   \n",
            "766  0.094272 -0.210300  0.014455  ... -0.286856 -0.820658  0.127663   \n",
            "\n",
            "          V24       V25       V26       V27       V28    Amount  Class  \n",
            "6   -0.780055  0.750137 -0.257237  0.034507  0.005168 -0.322079      0  \n",
            "16   0.103758  0.364298 -0.382261  0.092809  0.037051 -0.281616      0  \n",
            "26   0.435045  0.724825 -0.337082  0.016368  0.030041 -0.135493      0  \n",
            "36   0.392784 -0.031157  0.198037 -0.175347 -0.203616 -0.193102      0  \n",
            "46  -0.800213 -0.000620 -0.835203  0.131001  0.062896 -0.251471      0  \n",
            "..        ...       ...       ...       ...       ...       ...    ...  \n",
            "726 -0.077528  0.828618 -0.034126 -0.017271  0.000946 -0.195581      0  \n",
            "736 -1.419615  0.626973  0.878217 -0.377409  0.143628  4.641350      0  \n",
            "746  0.555201 -0.070679  0.212872  0.186031  0.092996 -0.300634      0  \n",
            "756  0.989458  0.228821 -0.545156  0.058120  0.035573 -0.282071      0  \n",
            "766  0.343128  0.221120  0.094391 -0.022189  0.030944 -0.340793      1  \n",
            "\n",
            "[77 rows x 31 columns]\n"
          ]
        }
      ],
      "source": [
        "#systemic sampling \n",
        "k = 10   \n",
        "\n",
        "start_index = pd.Series(range(k)).sample(1).iloc[0]\n",
        "\n",
        "\n",
        "sample4 = data.iloc[start_index::k]\n",
        "\n",
        "print(sample4)\n"
      ]
    },
    {
      "cell_type": "code",
      "execution_count": 56,
      "metadata": {
        "colab": {
          "base_uri": "https://localhost:8080/"
        },
        "id": "lTp1xsCmQ3BN",
        "outputId": "9e72e6c8-a0e1-4117-b3fc-40c40f209c91"
      },
      "outputs": [
        {
          "name": "stdout",
          "output_type": "stream",
          "text": [
            "         Time        V1        V2        V3        V4        V5        V6  \\\n",
            "0   -1.648034 -1.359807 -0.072781  2.536347  1.378155 -0.338321  0.462388   \n",
            "1   -1.648034  1.191857  0.266151  0.166480  0.448154  0.060018 -0.082361   \n",
            "2   -1.642211 -1.358354 -1.340163  1.773209  0.379780 -0.503198  1.800499   \n",
            "3   -1.642211 -0.966272 -0.185226  1.792993 -0.863291 -0.010309  1.247203   \n",
            "4   -1.636388 -1.158233  0.877737  1.548718  0.403034 -0.407193  0.095921   \n",
            "..        ...       ...       ...       ...       ...       ...       ...   \n",
            "381 -0.023324 -0.365229  1.104352  1.290217  0.070321  0.043432 -0.985204   \n",
            "382 -0.017500  0.878794 -0.266909  0.409706  1.509808 -0.487798  0.376829   \n",
            "383 -0.005854 -0.356466  0.725418  1.971749  0.831343  0.369681 -0.107776   \n",
            "384 -0.005854  0.057780  1.550356 -1.950408  2.041473  2.258426  4.692012   \n",
            "385 -0.005854 -0.426030  1.041184  1.063793 -0.407921  0.077615 -0.810862   \n",
            "\n",
            "           V7        V8        V9  ...       V21       V22       V23  \\\n",
            "0    0.239599  0.098698  0.363787  ... -0.018307  0.277838 -0.110474   \n",
            "1   -0.078803  0.085102 -0.255425  ... -0.225775 -0.638672  0.101288   \n",
            "2    0.791461  0.247676 -1.514654  ...  0.247998  0.771679  0.909412   \n",
            "3    0.237609  0.377436 -1.387024  ... -0.108300  0.005274 -0.190321   \n",
            "4    0.592941 -0.270533  0.817739  ... -0.009431  0.798278 -0.137458   \n",
            "..        ...       ...       ...  ...       ...       ...       ...   \n",
            "381  0.727144 -0.081310 -0.416811  ... -0.257011 -0.679352  0.001146   \n",
            "382 -0.389288  0.331361  0.702728  ...  0.025056  0.110527 -0.191237   \n",
            "383  0.751610 -0.120166 -0.420675  ...  0.020804  0.424312 -0.015989   \n",
            "384 -2.303907 -4.492133 -2.013113  ... -2.477111  0.803886  0.284487   \n",
            "385  0.620734 -1.048589 -0.416712  ...  0.758834 -0.107204 -0.139569   \n",
            "\n",
            "          V24       V25       V26       V27       V28    Amount  Class  \n",
            "0    0.066928  0.128539 -0.189115  0.133558 -0.021053  0.409447      0  \n",
            "1   -0.339846  0.167170  0.125895 -0.008983  0.014724 -0.333712      1  \n",
            "2   -0.689281 -0.327642 -0.139097 -0.055353 -0.059752  1.567910      0  \n",
            "3   -1.175575  0.647376 -0.221929  0.062723  0.061458  0.277334      0  \n",
            "4    0.141267 -0.206010  0.502292  0.219422  0.215153  0.006685      0  \n",
            "..        ...       ...       ...       ...       ...       ...    ...  \n",
            "381  0.337299 -0.152681  0.071208  0.243797  0.099436 -0.301847      0  \n",
            "382 -0.059199  0.504350 -0.271526  0.059100  0.053501  0.204753      0  \n",
            "383  0.466754 -0.809962  0.657334 -0.043150 -0.046401 -0.347318      0  \n",
            "384  0.993049 -0.039252  0.173406  0.181840  0.378080 -0.210754      0  \n",
            "385  0.500355  0.165607  1.052250 -0.024388  0.008398 -0.337202      0  \n",
            "\n",
            "[386 rows x 31 columns]\n"
          ]
        }
      ],
      "source": [
        "#Convenience Sampling (Non probability sampling method)\n",
        "\n",
        "\n",
        "sample5 = resampled_data_os.head(386)  # we take 386 because 772/2 = 386\n",
        "\n",
        "# Print the convenience sample\n",
        "print(sample5)\n"
      ]
    },
    {
      "cell_type": "code",
      "execution_count": 66,
      "metadata": {
        "id": "hK6Qf9vQW_OY"
      },
      "outputs": [],
      "source": [
        "\n",
        "def evaluate_models(dataframe):\n",
        "    X_train, X_test, y_train, y_test = train_test_split(dataframe.drop('Class', axis=1), dataframe['Class'], test_size=0.3, random_state=50)\n",
        "  \n",
        "    models = [\n",
        "        ('Logistic Regression', LogisticRegression()),\n",
        "        ('Decision Tree', DecisionTreeClassifier()),\n",
        "        ('Random Forest', RandomForestClassifier()),\n",
        "        ('SVM', SVC()),\n",
        "        ('Gaussian Naive Bayes', GaussianNB())\n",
        "    ]\n",
        "    \n",
        "    results = []\n",
        "    \n",
        "    for name, model in models:\n",
        "        model.fit(X_train, y_train)\n",
        "        \n",
        "        y_pred = model.predict(X_test)\n",
        "        \n",
        "        accuracy = accuracy_score(y_test, y_pred)\n",
        "        \n",
        "        results.append((name, accuracy))\n",
        "    \n",
        "    results_df = pd.DataFrame(results, columns=['Model', 'Accuracy'])\n",
        "    \n",
        "    return results_df\n"
      ]
    },
    {
      "cell_type": "code",
      "execution_count": 67,
      "metadata": {
        "colab": {
          "base_uri": "https://localhost:8080/"
        },
        "id": "Y2TZPDfeU8U3",
        "outputId": "86605e96-35d7-4dfd-f2de-7f4778ef7e5c"
      },
      "outputs": [
        {
          "name": "stdout",
          "output_type": "stream",
          "text": [
            "                  Model  Accuracy\n",
            "0   Logistic Regression  0.793103\n",
            "1         Decision Tree  0.905172\n",
            "2         Random Forest  1.000000\n",
            "3                   SVM  0.974138\n",
            "4  Gaussian Naive Bayes  0.775862\n"
          ]
        }
      ],
      "source": [
        "\n",
        "model_results = evaluate_models(sample1)\n",
        "print(model_results)\n"
      ]
    },
    {
      "cell_type": "code",
      "execution_count": 68,
      "metadata": {
        "colab": {
          "base_uri": "https://localhost:8080/"
        },
        "id": "IdDD42YNXcod",
        "outputId": "e5644ffb-e87c-4865-f344-3970085363d1"
      },
      "outputs": [
        {
          "name": "stdout",
          "output_type": "stream",
          "text": [
            "                  Model  Accuracy\n",
            "0   Logistic Regression  0.921397\n",
            "1         Decision Tree  0.982533\n",
            "2         Random Forest  0.995633\n",
            "3                   SVM  0.975983\n",
            "4  Gaussian Naive Bayes  0.707424\n"
          ]
        }
      ],
      "source": [
        "\n",
        "model_results = evaluate_models(sample2)\n",
        "print(model_results)\n"
      ]
    },
    {
      "cell_type": "code",
      "execution_count": 69,
      "metadata": {
        "colab": {
          "base_uri": "https://localhost:8080/"
        },
        "id": "f0bWnEJAXeVe",
        "outputId": "94df16c5-1208-46e0-feb0-1b32e0863a5b"
      },
      "outputs": [
        {
          "name": "stdout",
          "output_type": "stream",
          "text": [
            "                  Model  Accuracy\n",
            "0   Logistic Regression  0.962963\n",
            "1         Decision Tree  0.953704\n",
            "2         Random Forest  0.981481\n",
            "3                   SVM  1.000000\n",
            "4  Gaussian Naive Bayes  0.981481\n"
          ]
        }
      ],
      "source": [
        "\n",
        "model_results = evaluate_models(sample3)\n",
        "print(model_results)\n"
      ]
    },
    {
      "cell_type": "code",
      "execution_count": 70,
      "metadata": {
        "colab": {
          "base_uri": "https://localhost:8080/"
        },
        "id": "_tFn-CXlXe5Y",
        "outputId": "13f771cd-eaac-42a1-a51a-ef9cdd189dfc"
      },
      "outputs": [
        {
          "name": "stdout",
          "output_type": "stream",
          "text": [
            "                  Model  Accuracy\n",
            "0   Logistic Regression  0.958333\n",
            "1         Decision Tree  1.000000\n",
            "2         Random Forest  1.000000\n",
            "3                   SVM  1.000000\n",
            "4  Gaussian Naive Bayes  1.000000\n"
          ]
        }
      ],
      "source": [
        "\n",
        "model_results = evaluate_models(sample4)\n",
        "print(model_results)\n"
      ]
    },
    {
      "cell_type": "code",
      "execution_count": 71,
      "metadata": {
        "colab": {
          "base_uri": "https://localhost:8080/"
        },
        "id": "i3D_lDQ0XfXO",
        "outputId": "e51daafe-af3f-42b6-dcca-bcb9d0906a92"
      },
      "outputs": [
        {
          "name": "stdout",
          "output_type": "stream",
          "text": [
            "                  Model  Accuracy\n",
            "0   Logistic Regression  0.982759\n",
            "1         Decision Tree  0.982759\n",
            "2         Random Forest  0.982759\n",
            "3                   SVM  0.982759\n",
            "4  Gaussian Naive Bayes  0.982759\n"
          ]
        }
      ],
      "source": [
        "\n",
        "model_results = evaluate_models(sample5)\n",
        "print(model_results)\n"
      ]
    }
  ],
  "metadata": {
    "colab": {
      "provenance": []
    },
    "kernelspec": {
      "display_name": "Python 3",
      "language": "python",
      "name": "python3"
    },
    "language_info": {
      "codemirror_mode": {
        "name": "ipython",
        "version": 3
      },
      "file_extension": ".py",
      "mimetype": "text/x-python",
      "name": "python",
      "nbconvert_exporter": "python",
      "pygments_lexer": "ipython3",
      "version": "3.11.1"
    },
    "orig_nbformat": 4,
    "vscode": {
      "interpreter": {
        "hash": "1541a75496dc353dd60d2f656c7f359c8f58f7fd047796a5f580808f3980f1f2"
      }
    }
  },
  "nbformat": 4,
  "nbformat_minor": 0
}
